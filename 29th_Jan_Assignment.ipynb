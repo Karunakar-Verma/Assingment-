{
 "cells": [
  {
   "cell_type": "markdown",
   "id": "e94c6dee",
   "metadata": {},
   "source": [
    "# 29th_Jan_Assignment"
   ]
  },
  {
   "cell_type": "code",
   "execution_count": null,
   "id": "5fba17af",
   "metadata": {},
   "outputs": [],
   "source": [
    "(1) -> Python was developed by Guido van Rossum ."
   ]
  },
  {
   "cell_type": "code",
   "execution_count": null,
   "id": "9dab1da4",
   "metadata": {},
   "outputs": [],
   "source": [
    "(2) ->  Object-oriented programming and structured programming are fully supported."
   ]
  },
  {
   "cell_type": "code",
   "execution_count": null,
   "id": "db7da627",
   "metadata": {},
   "outputs": [],
   "source": [
    "(3) -> Yes, Python is a case-sensitive language."
   ]
  },
  {
   "cell_type": "code",
   "execution_count": null,
   "id": "51c066a5",
   "metadata": {},
   "outputs": [],
   "source": [
    "(4) -> The extensions for Python files are - . py, . pyi, ."
   ]
  },
  {
   "cell_type": "code",
   "execution_count": null,
   "id": "e920917b",
   "metadata": {},
   "outputs": [],
   "source": [
    "(5) -> Python is an interpreted language, which means the source code of a Python program is converted into bytecode that is then executed by the Python virtual machine."
   ]
  },
  {
   "cell_type": "code",
   "execution_count": null,
   "id": "c64927fb",
   "metadata": {},
   "outputs": [],
   "source": [
    "(6) -> The following are blocks: a module, a function body, and a class definition."
   ]
  },
  {
   "cell_type": "code",
   "execution_count": null,
   "id": "b69d6ad9",
   "metadata": {},
   "outputs": [],
   "source": [
    "(7) -> We can write a single-line comment by adding a single '#' character before any statement or line of code."
   ]
  },
  {
   "cell_type": "code",
   "execution_count": null,
   "id": "5e44c5a5",
   "metadata": {},
   "outputs": [],
   "source": [
    "(8) -> The function sys.version can help us to find the version of python that we are currently working on."
   ]
  },
  {
   "cell_type": "code",
   "execution_count": null,
   "id": "eaf4af90",
   "metadata": {},
   "outputs": [],
   "source": [
    "(9) -> Lambda"
   ]
  },
  {
   "cell_type": "code",
   "execution_count": null,
   "id": "25858b2e",
   "metadata": {},
   "outputs": [],
   "source": [
    "(10) -> PIP stands for “Preferred Installer Program”."
   ]
  },
  {
   "cell_type": "code",
   "execution_count": null,
   "id": "3644f5e7",
   "metadata": {},
   "outputs": [],
   "source": [
    "(11) -> bool() , list(), len(), pow()........."
   ]
  },
  {
   "cell_type": "code",
   "execution_count": null,
   "id": "eadd5f29",
   "metadata": {},
   "outputs": [],
   "source": [
    "(12) ->  An identifier can have a maximum length of 79 characters in Python. "
   ]
  },
  {
   "cell_type": "code",
   "execution_count": null,
   "id": "63493dd4",
   "metadata": {},
   "outputs": [],
   "source": [
    "(13) -> Libraries help reduce coding errors, make programs more efficient, and make software smaller in size (and lines of code)."
   ]
  },
  {
   "cell_type": "code",
   "execution_count": null,
   "id": "aaf68c60",
   "metadata": {},
   "outputs": [],
   "source": [
    "(14) -> Memory management in Python involves a private heap containing all Python objects and data structures. The management of this private heap is ensured internally by the Python memory manager."
   ]
  },
  {
   "cell_type": "code",
   "execution_count": null,
   "id": "30cc257a",
   "metadata": {},
   "outputs": [],
   "source": [
    "(15) ->\n",
    "\n",
    "-> Right-clicking This PC and going to Properties.\n",
    "\n",
    "-> Clicking on the Advanced system settings in the menu on the left.\n",
    "\n",
    "-> Clicking on the Environment Variables button on the bottom right.\n",
    "\n",
    "-> In the System variables section, selecting the Path variable and clicking on Edit. The next screen will show all the directories that are currently a part of the PATH variable.\n",
    "\n",
    "-> Clicking on New and entering Python’s install directory."
   ]
  },
  {
   "cell_type": "code",
   "execution_count": null,
   "id": "3eb0b310",
   "metadata": {},
   "outputs": [],
   "source": [
    "(16) -> Yes, indentation is requrired in python. "
   ]
  }
 ],
 "metadata": {
  "kernelspec": {
   "display_name": "Python 3 (ipykernel)",
   "language": "python",
   "name": "python3"
  },
  "language_info": {
   "codemirror_mode": {
    "name": "ipython",
    "version": 3
   },
   "file_extension": ".py",
   "mimetype": "text/x-python",
   "name": "python",
   "nbconvert_exporter": "python",
   "pygments_lexer": "ipython3",
   "version": "3.9.13"
  }
 },
 "nbformat": 4,
 "nbformat_minor": 5
}
